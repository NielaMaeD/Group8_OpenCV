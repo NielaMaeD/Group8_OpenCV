{
  "nbformat": 4,
  "nbformat_minor": 0,
  "metadata": {
    "colab": {
      "provenance": [],
      "authorship_tag": "ABX9TyOaOFZHcV9Sqw3/W4K2T3pq",
      "include_colab_link": true
    },
    "kernelspec": {
      "name": "python3",
      "display_name": "Python 3"
    },
    "language_info": {
      "name": "python"
    }
  },
  "cells": [
    {
      "cell_type": "markdown",
      "metadata": {
        "id": "view-in-github",
        "colab_type": "text"
      },
      "source": [
        "<a href=\"https://colab.research.google.com/github/NielaMaeD/Group8_OpenCV/blob/main/OpenCV_Part_2_Lesson_1_Color_Detection.ipynb\" target=\"_parent\"><img src=\"https://colab.research.google.com/assets/colab-badge.svg\" alt=\"Open In Colab\"/></a>"
      ]
    },
    {
      "cell_type": "code",
      "execution_count": null,
      "metadata": {
        "id": "YNsFW9fqib_y"
      },
      "outputs": [],
      "source": []
    },
    {
      "cell_type": "code",
      "metadata": {
        "id": "fpFzPRAjg4uf"
      },
      "source": [
        "!git clone https://github.com/misbah4064/opencvTutorial.git\n",
        "%cd opencvTutorial/\n",
        "from IPython.display import clear_output\n",
        "clear_output()"
      ],
      "execution_count": 1,
      "outputs": []
    },
    {
      "cell_type": "markdown",
      "metadata": {
        "id": "5vaUGcnQj8Ma"
      },
      "source": [
        "# **Part 2: Intermediate Exercises**"
      ]
    },
    {
      "cell_type": "markdown",
      "metadata": {
        "id": "TBn_p2MFkKzD"
      },
      "source": [
        "## **Lesson 1: Color Detection**"
      ]
    },
    {
      "cell_type": "code",
      "metadata": {
        "colab": {
          "base_uri": "https://localhost:8080/",
          "height": 497
        },
        "id": "DqQKb20akUfK",
        "outputId": "a9348d5e-c560-4fe9-9a0e-cb716543f34c"
      },
      "source": [
        "import cv2\n",
        "import numpy as np\n",
        "from google.colab.patches import cv2_imshow\n",
        "#BGR Image . It is represented in Blue, Green and Red Channels...\n",
        "image = cv2.imread(\"images/shapes.png\")\n",
        "hsv = cv2.cvtColor(image,cv2.COLOR_BGR2HSV)\n",
        "\n",
        "# Blue Color Triangle\n",
        "# lower_hue = np.array([65,0,0])\n",
        "# upper_hue = np.array([110, 255,255])\n",
        "\n",
        "# Red Color\n",
        "# lower_hue = np.array([0,0,0])\n",
        "# upper_hue = np.array([20,255, 255])\n",
        "\n",
        "# Green Color\n",
        "# lower_hue = np.array([46,0,0])\n",
        "# upper_hue = np.array([91,255,255])\n",
        "\n",
        "# Yellow Color\n",
        "lower_hue = np.array([21,0,0])\n",
        "upper_hue = np.array([45,255,255])\n",
        "\n",
        "mask = cv2.inRange(hsv,lower_hue,upper_hue)\n",
        "# cv2_imshow(mask)\n",
        "result = cv2.bitwise_and(image, image, mask = mask)\n",
        "cv2_imshow(result)\n",
        "# cv2_imshow(image)"
      ],
      "execution_count": null,
      "outputs": [
        {
          "output_type": "display_data",
          "data": {
            "image/png": "[encoded data removed]",
            "text/plain": [
              "<PIL.Image.Image image mode=RGB size=640x480 at 0x7FEB5BE0A400>"
            ]
          },
          "metadata": {
            "tags": []
          }
        }
      ]
    }
  ]
}